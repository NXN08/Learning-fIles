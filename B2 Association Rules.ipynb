{
 "cells": [
  {
   "cell_type": "markdown",
   "metadata": {
    "id": "OFGlkhegmcLd"
   },
   "source": [
    "# Importing the libraries"
   ]
  },
  {
   "cell_type": "code",
   "execution_count": 77,
   "metadata": {},
   "outputs": [],
   "source": [
    "import matplotlib.pyplot as plt\n",
    "import pandas as pd\n",
    "from mlxtend.preprocessing import TransactionEncoder\n",
    "from mlxtend.frequent_patterns import apriori, association_rules\n",
    "\n",
    "import warnings\n",
    "warnings.filterwarnings(\"ignore\")\n",
    "import seaborn as sns"
   ]
  },
  {
   "cell_type": "markdown",
   "metadata": {},
   "source": [
    "# Loading Dataset"
   ]
  },
  {
   "cell_type": "code",
   "execution_count": 78,
   "metadata": {
    "execution": {
     "iopub.execute_input": "2021-07-27T05:36:21.688099Z",
     "iopub.status.busy": "2021-07-27T05:36:21.687762Z",
     "iopub.status.idle": "2021-07-27T05:36:21.747042Z",
     "shell.execute_reply": "2021-07-27T05:36:21.745725Z",
     "shell.execute_reply.started": "2021-07-27T05:36:21.688035Z"
    },
    "id": "AnNjiHHBmcLd"
   },
   "outputs": [],
   "source": [
    "ds = pd.read_csv('train.csv')"
   ]
  },
  {
   "cell_type": "code",
   "execution_count": 79,
   "metadata": {
    "colab": {
     "base_uri": "https://localhost:8080/",
     "height": 424
    },
    "id": "RTOvUoqCw0EB",
    "outputId": "1121481d-35c3-46af-8fa4-dc64a54d0ac2"
   },
   "outputs": [
    {
     "data": {
      "text/html": [
       "<div>\n",
       "<style scoped>\n",
       "    .dataframe tbody tr th:only-of-type {\n",
       "        vertical-align: middle;\n",
       "    }\n",
       "\n",
       "    .dataframe tbody tr th {\n",
       "        vertical-align: top;\n",
       "    }\n",
       "\n",
       "    .dataframe thead th {\n",
       "        text-align: right;\n",
       "    }\n",
       "</style>\n",
       "<table border=\"1\" class=\"dataframe\">\n",
       "  <thead>\n",
       "    <tr style=\"text-align: right;\">\n",
       "      <th></th>\n",
       "      <th>PassengerId</th>\n",
       "      <th>Survived</th>\n",
       "      <th>Pclass</th>\n",
       "      <th>Name</th>\n",
       "      <th>Sex</th>\n",
       "      <th>Age</th>\n",
       "      <th>SibSp</th>\n",
       "      <th>Parch</th>\n",
       "      <th>Ticket</th>\n",
       "      <th>Fare</th>\n",
       "      <th>Cabin</th>\n",
       "      <th>Embarked</th>\n",
       "    </tr>\n",
       "  </thead>\n",
       "  <tbody>\n",
       "    <tr>\n",
       "      <th>0</th>\n",
       "      <td>1</td>\n",
       "      <td>0</td>\n",
       "      <td>3</td>\n",
       "      <td>Braund, Mr. Owen Harris</td>\n",
       "      <td>male</td>\n",
       "      <td>22.0</td>\n",
       "      <td>1</td>\n",
       "      <td>0</td>\n",
       "      <td>A/5 21171</td>\n",
       "      <td>7.2500</td>\n",
       "      <td>NaN</td>\n",
       "      <td>S</td>\n",
       "    </tr>\n",
       "    <tr>\n",
       "      <th>1</th>\n",
       "      <td>2</td>\n",
       "      <td>1</td>\n",
       "      <td>1</td>\n",
       "      <td>Cumings, Mrs. John Bradley (Florence Briggs Th...</td>\n",
       "      <td>female</td>\n",
       "      <td>38.0</td>\n",
       "      <td>1</td>\n",
       "      <td>0</td>\n",
       "      <td>PC 17599</td>\n",
       "      <td>71.2833</td>\n",
       "      <td>C85</td>\n",
       "      <td>C</td>\n",
       "    </tr>\n",
       "    <tr>\n",
       "      <th>2</th>\n",
       "      <td>3</td>\n",
       "      <td>1</td>\n",
       "      <td>3</td>\n",
       "      <td>Heikkinen, Miss. Laina</td>\n",
       "      <td>female</td>\n",
       "      <td>26.0</td>\n",
       "      <td>0</td>\n",
       "      <td>0</td>\n",
       "      <td>STON/O2. 3101282</td>\n",
       "      <td>7.9250</td>\n",
       "      <td>NaN</td>\n",
       "      <td>S</td>\n",
       "    </tr>\n",
       "    <tr>\n",
       "      <th>3</th>\n",
       "      <td>4</td>\n",
       "      <td>1</td>\n",
       "      <td>1</td>\n",
       "      <td>Futrelle, Mrs. Jacques Heath (Lily May Peel)</td>\n",
       "      <td>female</td>\n",
       "      <td>35.0</td>\n",
       "      <td>1</td>\n",
       "      <td>0</td>\n",
       "      <td>113803</td>\n",
       "      <td>53.1000</td>\n",
       "      <td>C123</td>\n",
       "      <td>S</td>\n",
       "    </tr>\n",
       "    <tr>\n",
       "      <th>4</th>\n",
       "      <td>5</td>\n",
       "      <td>0</td>\n",
       "      <td>3</td>\n",
       "      <td>Allen, Mr. William Henry</td>\n",
       "      <td>male</td>\n",
       "      <td>35.0</td>\n",
       "      <td>0</td>\n",
       "      <td>0</td>\n",
       "      <td>373450</td>\n",
       "      <td>8.0500</td>\n",
       "      <td>NaN</td>\n",
       "      <td>S</td>\n",
       "    </tr>\n",
       "    <tr>\n",
       "      <th>...</th>\n",
       "      <td>...</td>\n",
       "      <td>...</td>\n",
       "      <td>...</td>\n",
       "      <td>...</td>\n",
       "      <td>...</td>\n",
       "      <td>...</td>\n",
       "      <td>...</td>\n",
       "      <td>...</td>\n",
       "      <td>...</td>\n",
       "      <td>...</td>\n",
       "      <td>...</td>\n",
       "      <td>...</td>\n",
       "    </tr>\n",
       "    <tr>\n",
       "      <th>886</th>\n",
       "      <td>887</td>\n",
       "      <td>0</td>\n",
       "      <td>2</td>\n",
       "      <td>Montvila, Rev. Juozas</td>\n",
       "      <td>male</td>\n",
       "      <td>27.0</td>\n",
       "      <td>0</td>\n",
       "      <td>0</td>\n",
       "      <td>211536</td>\n",
       "      <td>13.0000</td>\n",
       "      <td>NaN</td>\n",
       "      <td>S</td>\n",
       "    </tr>\n",
       "    <tr>\n",
       "      <th>887</th>\n",
       "      <td>888</td>\n",
       "      <td>1</td>\n",
       "      <td>1</td>\n",
       "      <td>Graham, Miss. Margaret Edith</td>\n",
       "      <td>female</td>\n",
       "      <td>19.0</td>\n",
       "      <td>0</td>\n",
       "      <td>0</td>\n",
       "      <td>112053</td>\n",
       "      <td>30.0000</td>\n",
       "      <td>B42</td>\n",
       "      <td>S</td>\n",
       "    </tr>\n",
       "    <tr>\n",
       "      <th>888</th>\n",
       "      <td>889</td>\n",
       "      <td>0</td>\n",
       "      <td>3</td>\n",
       "      <td>Johnston, Miss. Catherine Helen \"Carrie\"</td>\n",
       "      <td>female</td>\n",
       "      <td>NaN</td>\n",
       "      <td>1</td>\n",
       "      <td>2</td>\n",
       "      <td>W./C. 6607</td>\n",
       "      <td>23.4500</td>\n",
       "      <td>NaN</td>\n",
       "      <td>S</td>\n",
       "    </tr>\n",
       "    <tr>\n",
       "      <th>889</th>\n",
       "      <td>890</td>\n",
       "      <td>1</td>\n",
       "      <td>1</td>\n",
       "      <td>Behr, Mr. Karl Howell</td>\n",
       "      <td>male</td>\n",
       "      <td>26.0</td>\n",
       "      <td>0</td>\n",
       "      <td>0</td>\n",
       "      <td>111369</td>\n",
       "      <td>30.0000</td>\n",
       "      <td>C148</td>\n",
       "      <td>C</td>\n",
       "    </tr>\n",
       "    <tr>\n",
       "      <th>890</th>\n",
       "      <td>891</td>\n",
       "      <td>0</td>\n",
       "      <td>3</td>\n",
       "      <td>Dooley, Mr. Patrick</td>\n",
       "      <td>male</td>\n",
       "      <td>32.0</td>\n",
       "      <td>0</td>\n",
       "      <td>0</td>\n",
       "      <td>370376</td>\n",
       "      <td>7.7500</td>\n",
       "      <td>NaN</td>\n",
       "      <td>Q</td>\n",
       "    </tr>\n",
       "  </tbody>\n",
       "</table>\n",
       "<p>891 rows × 12 columns</p>\n",
       "</div>"
      ],
      "text/plain": [
       "     PassengerId  Survived  Pclass  \\\n",
       "0              1         0       3   \n",
       "1              2         1       1   \n",
       "2              3         1       3   \n",
       "3              4         1       1   \n",
       "4              5         0       3   \n",
       "..           ...       ...     ...   \n",
       "886          887         0       2   \n",
       "887          888         1       1   \n",
       "888          889         0       3   \n",
       "889          890         1       1   \n",
       "890          891         0       3   \n",
       "\n",
       "                                                  Name     Sex   Age  SibSp  \\\n",
       "0                              Braund, Mr. Owen Harris    male  22.0      1   \n",
       "1    Cumings, Mrs. John Bradley (Florence Briggs Th...  female  38.0      1   \n",
       "2                               Heikkinen, Miss. Laina  female  26.0      0   \n",
       "3         Futrelle, Mrs. Jacques Heath (Lily May Peel)  female  35.0      1   \n",
       "4                             Allen, Mr. William Henry    male  35.0      0   \n",
       "..                                                 ...     ...   ...    ...   \n",
       "886                              Montvila, Rev. Juozas    male  27.0      0   \n",
       "887                       Graham, Miss. Margaret Edith  female  19.0      0   \n",
       "888           Johnston, Miss. Catherine Helen \"Carrie\"  female   NaN      1   \n",
       "889                              Behr, Mr. Karl Howell    male  26.0      0   \n",
       "890                                Dooley, Mr. Patrick    male  32.0      0   \n",
       "\n",
       "     Parch            Ticket     Fare Cabin Embarked  \n",
       "0        0         A/5 21171   7.2500   NaN        S  \n",
       "1        0          PC 17599  71.2833   C85        C  \n",
       "2        0  STON/O2. 3101282   7.9250   NaN        S  \n",
       "3        0            113803  53.1000  C123        S  \n",
       "4        0            373450   8.0500   NaN        S  \n",
       "..     ...               ...      ...   ...      ...  \n",
       "886      0            211536  13.0000   NaN        S  \n",
       "887      0            112053  30.0000   B42        S  \n",
       "888      2        W./C. 6607  23.4500   NaN        S  \n",
       "889      0            111369  30.0000  C148        C  \n",
       "890      0            370376   7.7500   NaN        Q  \n",
       "\n",
       "[891 rows x 12 columns]"
      ]
     },
     "execution_count": 79,
     "metadata": {},
     "output_type": "execute_result"
    }
   ],
   "source": [
    "ds"
   ]
  },
  {
   "cell_type": "code",
   "execution_count": 80,
   "metadata": {},
   "outputs": [
    {
     "name": "stdout",
     "output_type": "stream",
     "text": [
      "<class 'pandas.core.frame.DataFrame'>\n",
      "RangeIndex: 891 entries, 0 to 890\n",
      "Data columns (total 12 columns):\n",
      " #   Column       Non-Null Count  Dtype  \n",
      "---  ------       --------------  -----  \n",
      " 0   PassengerId  891 non-null    int64  \n",
      " 1   Survived     891 non-null    int64  \n",
      " 2   Pclass       891 non-null    int64  \n",
      " 3   Name         891 non-null    object \n",
      " 4   Sex          891 non-null    object \n",
      " 5   Age          714 non-null    float64\n",
      " 6   SibSp        891 non-null    int64  \n",
      " 7   Parch        891 non-null    int64  \n",
      " 8   Ticket       891 non-null    object \n",
      " 9   Fare         891 non-null    float64\n",
      " 10  Cabin        204 non-null    object \n",
      " 11  Embarked     889 non-null    object \n",
      "dtypes: float64(2), int64(5), object(5)\n",
      "memory usage: 83.7+ KB\n"
     ]
    }
   ],
   "source": [
    "ds.info()"
   ]
  },
  {
   "cell_type": "code",
   "execution_count": 81,
   "metadata": {},
   "outputs": [
    {
     "data": {
      "text/plain": [
       "PassengerId      0\n",
       "Survived         0\n",
       "Pclass           0\n",
       "Name             0\n",
       "Sex              0\n",
       "Age            177\n",
       "SibSp            0\n",
       "Parch            0\n",
       "Ticket           0\n",
       "Fare             0\n",
       "Cabin          687\n",
       "Embarked         2\n",
       "dtype: int64"
      ]
     },
     "execution_count": 81,
     "metadata": {},
     "output_type": "execute_result"
    }
   ],
   "source": [
    "ds.isna().sum()"
   ]
  },
  {
   "cell_type": "code",
   "execution_count": 82,
   "metadata": {
    "colab": {
     "base_uri": "https://localhost:8080/"
    },
    "id": "hCRaebKuLrpM",
    "outputId": "fcd66bdb-0383-40f1-c5f6-8da68e470113"
   },
   "outputs": [
    {
     "data": {
      "text/plain": [
       "Index(['PassengerId', 'Survived', 'Pclass', 'Name', 'Sex', 'Age', 'SibSp',\n",
       "       'Parch', 'Ticket', 'Fare', 'Cabin', 'Embarked'],\n",
       "      dtype='object')"
      ]
     },
     "execution_count": 82,
     "metadata": {},
     "output_type": "execute_result"
    }
   ],
   "source": [
    "ds.columns\n"
   ]
  },
  {
   "cell_type": "code",
   "execution_count": 83,
   "metadata": {
    "colab": {
     "base_uri": "https://localhost:8080/"
    },
    "id": "mjttlLGDO4v-",
    "outputId": "85863e1b-88d0-4224-b6dc-c5fe860d7867"
   },
   "outputs": [
    {
     "data": {
      "text/plain": [
       "(891, 12)"
      ]
     },
     "execution_count": 83,
     "metadata": {},
     "output_type": "execute_result"
    }
   ],
   "source": [
    "ds.shape"
   ]
  },
  {
   "cell_type": "code",
   "execution_count": 84,
   "metadata": {},
   "outputs": [
    {
     "data": {
      "text/plain": [
       "248"
      ]
     },
     "execution_count": 84,
     "metadata": {},
     "output_type": "execute_result"
    }
   ],
   "source": [
    "ds['Fare'].nunique()"
   ]
  },
  {
   "cell_type": "markdown",
   "metadata": {
    "id": "nmt68FXh40Fi"
   },
   "source": [
    "## Data Preprocessing"
   ]
  },
  {
   "cell_type": "code",
   "execution_count": 85,
   "metadata": {
    "id": "8dwjg1gHwvxW"
   },
   "outputs": [],
   "source": [
    "nominal_cols = ['Embarked','Pclass','Age', 'Survived', 'Sex']\n",
    "cat_cols = ['Embarked','Pclass','Age', 'Survived', 'Title']\n",
    "ds['Title'] = ds.Name.str.extract('\\, ([A-Z][^ ]*\\.)',expand=False)\n",
    "ds['Embarked'].fillna('Unknown',inplace=True)\n",
    "ds['Age'].fillna(0, inplace=True)\n",
    "\n",
    "# Replacing Binary with String\n",
    "rep = {0: \"Dead\", 1: \"Survived\"}\n",
    "ds.replace({'Survived' : rep}, inplace=True)"
   ]
  },
  {
   "cell_type": "code",
   "execution_count": 86,
   "metadata": {
    "execution": {
     "iopub.execute_input": "2021-07-27T05:36:21.748862Z",
     "iopub.status.busy": "2021-07-27T05:36:21.748530Z",
     "iopub.status.idle": "2021-07-27T05:36:21.772387Z",
     "shell.execute_reply": "2021-07-27T05:36:21.771160Z",
     "shell.execute_reply.started": "2021-07-27T05:36:21.748811Z"
    },
    "id": "tfDwiFFOmcLf"
   },
   "outputs": [],
   "source": [
    "# Binning Age Column\n",
    "\n",
    "def binning(col, cut_points, labels=None):\n",
    "  minval = col.min()\n",
    "  maxval = col.max()\n",
    "  break_points = [minval] + cut_points + [maxval]\n",
    "  if not labels:\n",
    "    labels = range(len(cut_points)+1)\n",
    "  colBin = pd.cut(col,bins=break_points,labels=labels,include_lowest=True)\n",
    "  return colBin\n",
    "\n",
    "cut_points = [1, 20, 50 ]\n",
    "labels = [\"Unknown\", \"Young\", \"Adult\", \"Old\"]\n",
    "ds['Age'] = binning(ds['Age'], cut_points, labels)\n",
    "in_titanic = ds[nominal_cols]\n",
    "cat_titanic = ds[cat_cols]"
   ]
  },
  {
   "cell_type": "markdown",
   "metadata": {},
   "source": [
    " Gender Data"
   ]
  },
  {
   "cell_type": "code",
   "execution_count": 87,
   "metadata": {
    "colab": {
     "base_uri": "https://localhost:8080/",
     "height": 206
    },
    "execution": {
     "iopub.execute_input": "2021-07-27T05:36:21.774265Z",
     "iopub.status.busy": "2021-07-27T05:36:21.773932Z",
     "iopub.status.idle": "2021-07-27T05:36:21.808440Z",
     "shell.execute_reply": "2021-07-27T05:36:21.807113Z",
     "shell.execute_reply.started": "2021-07-27T05:36:21.774201Z"
    },
    "id": "yHFpZoTEmcLh",
    "outputId": "593b8831-b547-4c9f-bdee-c429012e66d3"
   },
   "outputs": [
    {
     "data": {
      "text/html": [
       "<div>\n",
       "<style scoped>\n",
       "    .dataframe tbody tr th:only-of-type {\n",
       "        vertical-align: middle;\n",
       "    }\n",
       "\n",
       "    .dataframe tbody tr th {\n",
       "        vertical-align: top;\n",
       "    }\n",
       "\n",
       "    .dataframe thead th {\n",
       "        text-align: right;\n",
       "    }\n",
       "</style>\n",
       "<table border=\"1\" class=\"dataframe\">\n",
       "  <thead>\n",
       "    <tr style=\"text-align: right;\">\n",
       "      <th></th>\n",
       "      <th>Embarked</th>\n",
       "      <th>Pclass</th>\n",
       "      <th>Age</th>\n",
       "      <th>Survived</th>\n",
       "      <th>Sex</th>\n",
       "    </tr>\n",
       "  </thead>\n",
       "  <tbody>\n",
       "    <tr>\n",
       "      <th>0</th>\n",
       "      <td>S</td>\n",
       "      <td>3</td>\n",
       "      <td>Adult</td>\n",
       "      <td>Dead</td>\n",
       "      <td>male</td>\n",
       "    </tr>\n",
       "    <tr>\n",
       "      <th>1</th>\n",
       "      <td>C</td>\n",
       "      <td>1</td>\n",
       "      <td>Adult</td>\n",
       "      <td>Survived</td>\n",
       "      <td>female</td>\n",
       "    </tr>\n",
       "    <tr>\n",
       "      <th>2</th>\n",
       "      <td>S</td>\n",
       "      <td>3</td>\n",
       "      <td>Adult</td>\n",
       "      <td>Survived</td>\n",
       "      <td>female</td>\n",
       "    </tr>\n",
       "    <tr>\n",
       "      <th>3</th>\n",
       "      <td>S</td>\n",
       "      <td>1</td>\n",
       "      <td>Adult</td>\n",
       "      <td>Survived</td>\n",
       "      <td>female</td>\n",
       "    </tr>\n",
       "    <tr>\n",
       "      <th>4</th>\n",
       "      <td>S</td>\n",
       "      <td>3</td>\n",
       "      <td>Adult</td>\n",
       "      <td>Dead</td>\n",
       "      <td>male</td>\n",
       "    </tr>\n",
       "  </tbody>\n",
       "</table>\n",
       "</div>"
      ],
      "text/plain": [
       "  Embarked  Pclass    Age  Survived     Sex\n",
       "0        S       3  Adult      Dead    male\n",
       "1        C       1  Adult  Survived  female\n",
       "2        S       3  Adult  Survived  female\n",
       "3        S       1  Adult  Survived  female\n",
       "4        S       3  Adult      Dead    male"
      ]
     },
     "execution_count": 87,
     "metadata": {},
     "output_type": "execute_result"
    }
   ],
   "source": [
    "in_titanic.head()"
   ]
  },
  {
   "cell_type": "markdown",
   "metadata": {},
   "source": [
    " Title Data"
   ]
  },
  {
   "cell_type": "code",
   "execution_count": 88,
   "metadata": {
    "colab": {
     "base_uri": "https://localhost:8080/",
     "height": 206
    },
    "execution": {
     "iopub.execute_input": "2021-07-27T05:36:21.810319Z",
     "iopub.status.busy": "2021-07-27T05:36:21.809974Z",
     "iopub.status.idle": "2021-07-27T05:36:21.834073Z",
     "shell.execute_reply": "2021-07-27T05:36:21.832951Z",
     "shell.execute_reply.started": "2021-07-27T05:36:21.810256Z"
    },
    "id": "DEa2E4lOmcLj",
    "outputId": "c72be984-1629-42ad-d667-e7d60c7de99e"
   },
   "outputs": [
    {
     "data": {
      "text/html": [
       "<div>\n",
       "<style scoped>\n",
       "    .dataframe tbody tr th:only-of-type {\n",
       "        vertical-align: middle;\n",
       "    }\n",
       "\n",
       "    .dataframe tbody tr th {\n",
       "        vertical-align: top;\n",
       "    }\n",
       "\n",
       "    .dataframe thead th {\n",
       "        text-align: right;\n",
       "    }\n",
       "</style>\n",
       "<table border=\"1\" class=\"dataframe\">\n",
       "  <thead>\n",
       "    <tr style=\"text-align: right;\">\n",
       "      <th></th>\n",
       "      <th>Embarked</th>\n",
       "      <th>Pclass</th>\n",
       "      <th>Age</th>\n",
       "      <th>Survived</th>\n",
       "      <th>Title</th>\n",
       "    </tr>\n",
       "  </thead>\n",
       "  <tbody>\n",
       "    <tr>\n",
       "      <th>0</th>\n",
       "      <td>S</td>\n",
       "      <td>3</td>\n",
       "      <td>Adult</td>\n",
       "      <td>Dead</td>\n",
       "      <td>Mr.</td>\n",
       "    </tr>\n",
       "    <tr>\n",
       "      <th>1</th>\n",
       "      <td>C</td>\n",
       "      <td>1</td>\n",
       "      <td>Adult</td>\n",
       "      <td>Survived</td>\n",
       "      <td>Mrs.</td>\n",
       "    </tr>\n",
       "    <tr>\n",
       "      <th>2</th>\n",
       "      <td>S</td>\n",
       "      <td>3</td>\n",
       "      <td>Adult</td>\n",
       "      <td>Survived</td>\n",
       "      <td>Miss.</td>\n",
       "    </tr>\n",
       "    <tr>\n",
       "      <th>3</th>\n",
       "      <td>S</td>\n",
       "      <td>1</td>\n",
       "      <td>Adult</td>\n",
       "      <td>Survived</td>\n",
       "      <td>Mrs.</td>\n",
       "    </tr>\n",
       "    <tr>\n",
       "      <th>4</th>\n",
       "      <td>S</td>\n",
       "      <td>3</td>\n",
       "      <td>Adult</td>\n",
       "      <td>Dead</td>\n",
       "      <td>Mr.</td>\n",
       "    </tr>\n",
       "  </tbody>\n",
       "</table>\n",
       "</div>"
      ],
      "text/plain": [
       "  Embarked  Pclass    Age  Survived  Title\n",
       "0        S       3  Adult      Dead    Mr.\n",
       "1        C       1  Adult  Survived   Mrs.\n",
       "2        S       3  Adult  Survived  Miss.\n",
       "3        S       1  Adult  Survived   Mrs.\n",
       "4        S       3  Adult      Dead    Mr."
      ]
     },
     "execution_count": 88,
     "metadata": {},
     "output_type": "execute_result"
    }
   ],
   "source": [
    "cat_titanic.head()"
   ]
  },
  {
   "cell_type": "markdown",
   "metadata": {
    "id": "xqDsIZBzmcLk"
   },
   "source": [
    "### Data Visualization with Plots\n"
   ]
  },
  {
   "cell_type": "code",
   "execution_count": 89,
   "metadata": {
    "colab": {
     "base_uri": "https://localhost:8080/",
     "height": 1000
    },
    "execution": {
     "iopub.execute_input": "2021-07-27T05:36:21.835883Z",
     "iopub.status.busy": "2021-07-27T05:36:21.835484Z",
     "iopub.status.idle": "2021-07-27T05:36:22.847403Z",
     "shell.execute_reply": "2021-07-27T05:36:22.845992Z",
     "shell.execute_reply.started": "2021-07-27T05:36:21.835822Z"
    },
    "id": "SSOybB0BmcLl",
    "outputId": "fa31e64e-d590-429b-863f-2f36f1f18c97"
   },
   "outputs": [
    {
     "data": {
      "image/png": "[encoded data removed]",
      "text/plain": [
       "<Figure size 432x288 with 1 Axes>"
      ]
     },
     "metadata": {},
     "output_type": "display_data"
    },
    {
     "data": {
      "image/png": "[encoded data removed]",
      "text/plain": [
       "<Figure size 432x288 with 1 Axes>"
      ]
     },
     "metadata": {},
     "output_type": "display_data"
    },
    {
     "data": {
      "image/png": "[encoded data removed]",
      "text/plain": [
       "<Figure size 432x288 with 1 Axes>"
      ]
     },
     "metadata": {},
     "output_type": "display_data"
    },
    {
     "data": {
      "image/png": "[encoded data removed]",
      "text/plain": [
       "<Figure size 432x288 with 1 Axes>"
      ]
     },
     "metadata": {},
     "output_type": "display_data"
    },
    {
     "data": {
      "image/png": "[encoded data removed]",
      "text/plain": [
       "<Figure size 432x288 with 1 Axes>"
      ]
     },
     "metadata": {},
     "output_type": "display_data"
    }
   ],
   "source": [
    "for x in ['Embarked', 'Pclass','Age', 'Sex', 'Title']:\n",
    "    sns.set(style=\"whitegrid\")\n",
    "    ax = sns.countplot(y=x, hue=\"Survived\", data=ds)\n",
    "    plt.ylabel(x)\n",
    "    plt.title('Survival Plot')\n",
    "    plt.show()"
   ]
  },
  {
   "cell_type": "markdown",
   "metadata": {},
   "source": [
    "# Insights From EDA:\n",
    "1.People embarked from S has mre no.of survived and dead. While from Q has the least. \n",
    "\n",
    "2.People in Pclass 3 have more no.of dead and Pclass 1 has the least.\n",
    "\n",
    "3.No.of adult people both survived and dead are more and, while Old are the least.\n",
    "\n",
    "4.More male dead and more females survived.\n"
   ]
  },
  {
   "cell_type": "markdown",
   "metadata": {
    "id": "QCOhhMmpmcLm"
   },
   "source": [
    "## Analysis of  Methodology\n",
    "\n",
    "* We are using Gender Wise data to build the model.\n"
   ]
  },
  {
   "cell_type": "code",
   "execution_count": 90,
   "metadata": {
    "colab": {
     "base_uri": "https://localhost:8080/",
     "height": 206
    },
    "execution": {
     "iopub.execute_input": "2021-07-27T05:36:22.849568Z",
     "iopub.status.busy": "2021-07-27T05:36:22.849204Z",
     "iopub.status.idle": "2021-07-27T05:36:23.566019Z",
     "shell.execute_reply": "2021-07-27T05:36:23.565067Z",
     "shell.execute_reply.started": "2021-07-27T05:36:22.849511Z"
    },
    "id": "qk7vFadlmcLn",
    "outputId": "2de1c8b9-710b-4c0d-d785-23fb32b43a94"
   },
   "outputs": [
    {
     "data": {
      "text/html": [
       "<div>\n",
       "<style scoped>\n",
       "    .dataframe tbody tr th:only-of-type {\n",
       "        vertical-align: middle;\n",
       "    }\n",
       "\n",
       "    .dataframe tbody tr th {\n",
       "        vertical-align: top;\n",
       "    }\n",
       "\n",
       "    .dataframe thead th {\n",
       "        text-align: right;\n",
       "    }\n",
       "</style>\n",
       "<table border=\"1\" class=\"dataframe\">\n",
       "  <thead>\n",
       "    <tr style=\"text-align: right;\">\n",
       "      <th></th>\n",
       "      <th>1</th>\n",
       "      <th>2</th>\n",
       "      <th>3</th>\n",
       "      <th>Adult</th>\n",
       "      <th>C</th>\n",
       "      <th>Dead</th>\n",
       "      <th>Old</th>\n",
       "      <th>Q</th>\n",
       "      <th>S</th>\n",
       "      <th>Survived</th>\n",
       "      <th>Unknown</th>\n",
       "      <th>Young</th>\n",
       "      <th>female</th>\n",
       "      <th>male</th>\n",
       "    </tr>\n",
       "  </thead>\n",
       "  <tbody>\n",
       "    <tr>\n",
       "      <th>0</th>\n",
       "      <td>False</td>\n",
       "      <td>False</td>\n",
       "      <td>True</td>\n",
       "      <td>True</td>\n",
       "      <td>False</td>\n",
       "      <td>True</td>\n",
       "      <td>False</td>\n",
       "      <td>False</td>\n",
       "      <td>True</td>\n",
       "      <td>False</td>\n",
       "      <td>False</td>\n",
       "      <td>False</td>\n",
       "      <td>False</td>\n",
       "      <td>True</td>\n",
       "    </tr>\n",
       "    <tr>\n",
       "      <th>1</th>\n",
       "      <td>True</td>\n",
       "      <td>False</td>\n",
       "      <td>False</td>\n",
       "      <td>True</td>\n",
       "      <td>True</td>\n",
       "      <td>False</td>\n",
       "      <td>False</td>\n",
       "      <td>False</td>\n",
       "      <td>False</td>\n",
       "      <td>True</td>\n",
       "      <td>False</td>\n",
       "      <td>False</td>\n",
       "      <td>True</td>\n",
       "      <td>False</td>\n",
       "    </tr>\n",
       "    <tr>\n",
       "      <th>2</th>\n",
       "      <td>False</td>\n",
       "      <td>False</td>\n",
       "      <td>True</td>\n",
       "      <td>True</td>\n",
       "      <td>False</td>\n",
       "      <td>False</td>\n",
       "      <td>False</td>\n",
       "      <td>False</td>\n",
       "      <td>True</td>\n",
       "      <td>True</td>\n",
       "      <td>False</td>\n",
       "      <td>False</td>\n",
       "      <td>True</td>\n",
       "      <td>False</td>\n",
       "    </tr>\n",
       "    <tr>\n",
       "      <th>3</th>\n",
       "      <td>True</td>\n",
       "      <td>False</td>\n",
       "      <td>False</td>\n",
       "      <td>True</td>\n",
       "      <td>False</td>\n",
       "      <td>False</td>\n",
       "      <td>False</td>\n",
       "      <td>False</td>\n",
       "      <td>True</td>\n",
       "      <td>True</td>\n",
       "      <td>False</td>\n",
       "      <td>False</td>\n",
       "      <td>True</td>\n",
       "      <td>False</td>\n",
       "    </tr>\n",
       "    <tr>\n",
       "      <th>4</th>\n",
       "      <td>False</td>\n",
       "      <td>False</td>\n",
       "      <td>True</td>\n",
       "      <td>True</td>\n",
       "      <td>False</td>\n",
       "      <td>True</td>\n",
       "      <td>False</td>\n",
       "      <td>False</td>\n",
       "      <td>True</td>\n",
       "      <td>False</td>\n",
       "      <td>False</td>\n",
       "      <td>False</td>\n",
       "      <td>False</td>\n",
       "      <td>True</td>\n",
       "    </tr>\n",
       "  </tbody>\n",
       "</table>\n",
       "</div>"
      ],
      "text/plain": [
       "       1      2      3  Adult      C   Dead    Old      Q      S  Survived  \\\n",
       "0  False  False   True   True  False   True  False  False   True     False   \n",
       "1   True  False  False   True   True  False  False  False  False      True   \n",
       "2  False  False   True   True  False  False  False  False   True      True   \n",
       "3   True  False  False   True  False  False  False  False   True      True   \n",
       "4  False  False   True   True  False   True  False  False   True     False   \n",
       "\n",
       "   Unknown  Young  female   male  \n",
       "0    False  False   False   True  \n",
       "1    False  False    True  False  \n",
       "2    False  False    True  False  \n",
       "3    False  False    True  False  \n",
       "4    False  False   False   True  "
      ]
     },
     "execution_count": 90,
     "metadata": {},
     "output_type": "execute_result"
    }
   ],
   "source": [
    "dataset = []\n",
    "for i in range(0, in_titanic.shape[0]-1):\n",
    "    dataset.append([str(in_titanic.values[i,j]) for j in range(0, in_titanic.shape[1])])\n",
    "\n",
    "oht = TransactionEncoder()\n",
    "oht_ary = oht.fit(dataset).transform(dataset)\n",
    "df = pd.DataFrame(oht_ary, columns=oht.columns_)\n",
    "df.head()"
   ]
  },
  {
   "cell_type": "code",
   "execution_count": 91,
   "metadata": {
    "colab": {
     "base_uri": "https://localhost:8080/"
    },
    "execution": {
     "iopub.execute_input": "2021-07-27T05:36:23.567549Z",
     "iopub.status.busy": "2021-07-27T05:36:23.567153Z",
     "iopub.status.idle": "2021-07-27T05:36:23.572470Z",
     "shell.execute_reply": "2021-07-27T05:36:23.571491Z",
     "shell.execute_reply.started": "2021-07-27T05:36:23.567379Z"
    },
    "id": "aHfBFetMmcLp",
    "outputId": "5d499019-9ca8-4aa1-b526-e10d7d8a24cd"
   },
   "outputs": [
    {
     "data": {
      "text/plain": [
       "['1',\n",
       " '2',\n",
       " '3',\n",
       " 'Adult',\n",
       " 'C',\n",
       " 'Dead',\n",
       " 'Old',\n",
       " 'Q',\n",
       " 'S',\n",
       " 'Survived',\n",
       " 'Unknown',\n",
       " 'Young',\n",
       " 'female',\n",
       " 'male']"
      ]
     },
     "execution_count": 91,
     "metadata": {},
     "output_type": "execute_result"
    }
   ],
   "source": [
    "oht.columns_"
   ]
  },
  {
   "cell_type": "markdown",
   "metadata": {
    "id": "m4zUYjuomcLp"
   },
   "source": [
    "## Building the model"
   ]
  },
  {
   "cell_type": "code",
   "execution_count": 128,
   "metadata": {
    "colab": {
     "base_uri": "https://localhost:8080/",
     "height": 363
    },
    "id": "i0dXGikDrEFd",
    "outputId": "d306bb52-8fb4-4944-cc66-3a46607e9009"
   },
   "outputs": [
    {
     "data": {
      "text/html": [
       "<div>\n",
       "<style scoped>\n",
       "    .dataframe tbody tr th:only-of-type {\n",
       "        vertical-align: middle;\n",
       "    }\n",
       "\n",
       "    .dataframe tbody tr th {\n",
       "        vertical-align: top;\n",
       "    }\n",
       "\n",
       "    .dataframe thead th {\n",
       "        text-align: right;\n",
       "    }\n",
       "</style>\n",
       "<table border=\"1\" class=\"dataframe\">\n",
       "  <thead>\n",
       "    <tr style=\"text-align: right;\">\n",
       "      <th></th>\n",
       "      <th>antecedents</th>\n",
       "      <th>consequents</th>\n",
       "      <th>antecedent support</th>\n",
       "      <th>consequent support</th>\n",
       "      <th>support</th>\n",
       "      <th>confidence</th>\n",
       "      <th>lift</th>\n",
       "      <th>leverage</th>\n",
       "      <th>conviction</th>\n",
       "    </tr>\n",
       "  </thead>\n",
       "  <tbody>\n",
       "    <tr>\n",
       "      <th>862</th>\n",
       "      <td>(Unknown, Dead, Q)</td>\n",
       "      <td>(3)</td>\n",
       "      <td>0.030337</td>\n",
       "      <td>0.550562</td>\n",
       "      <td>0.030337</td>\n",
       "      <td>1.000000</td>\n",
       "      <td>1.816327</td>\n",
       "      <td>0.013635</td>\n",
       "      <td>inf</td>\n",
       "    </tr>\n",
       "    <tr>\n",
       "      <th>1006</th>\n",
       "      <td>(Unknown, Q, male)</td>\n",
       "      <td>(3)</td>\n",
       "      <td>0.028090</td>\n",
       "      <td>0.550562</td>\n",
       "      <td>0.028090</td>\n",
       "      <td>1.000000</td>\n",
       "      <td>1.816327</td>\n",
       "      <td>0.012625</td>\n",
       "      <td>inf</td>\n",
       "    </tr>\n",
       "    <tr>\n",
       "      <th>1415</th>\n",
       "      <td>(Unknown, Q, Dead, male)</td>\n",
       "      <td>(3)</td>\n",
       "      <td>0.025843</td>\n",
       "      <td>0.550562</td>\n",
       "      <td>0.025843</td>\n",
       "      <td>1.000000</td>\n",
       "      <td>1.816327</td>\n",
       "      <td>0.011615</td>\n",
       "      <td>inf</td>\n",
       "    </tr>\n",
       "    <tr>\n",
       "      <th>624</th>\n",
       "      <td>(1, Dead, Old)</td>\n",
       "      <td>(male)</td>\n",
       "      <td>0.023596</td>\n",
       "      <td>0.647191</td>\n",
       "      <td>0.023596</td>\n",
       "      <td>1.000000</td>\n",
       "      <td>1.545139</td>\n",
       "      <td>0.008325</td>\n",
       "      <td>inf</td>\n",
       "    </tr>\n",
       "    <tr>\n",
       "      <th>276</th>\n",
       "      <td>(Unknown, Q)</td>\n",
       "      <td>(3)</td>\n",
       "      <td>0.055056</td>\n",
       "      <td>0.550562</td>\n",
       "      <td>0.053933</td>\n",
       "      <td>0.979592</td>\n",
       "      <td>1.779259</td>\n",
       "      <td>0.023621</td>\n",
       "      <td>22.022472</td>\n",
       "    </tr>\n",
       "    <tr>\n",
       "      <th>610</th>\n",
       "      <td>(1, female, C)</td>\n",
       "      <td>(Survived)</td>\n",
       "      <td>0.048315</td>\n",
       "      <td>0.384270</td>\n",
       "      <td>0.047191</td>\n",
       "      <td>0.976744</td>\n",
       "      <td>2.541820</td>\n",
       "      <td>0.028625</td>\n",
       "      <td>26.476404</td>\n",
       "    </tr>\n",
       "    <tr>\n",
       "      <th>416</th>\n",
       "      <td>(Dead, Old)</td>\n",
       "      <td>(male)</td>\n",
       "      <td>0.047191</td>\n",
       "      <td>0.647191</td>\n",
       "      <td>0.046067</td>\n",
       "      <td>0.976190</td>\n",
       "      <td>1.508350</td>\n",
       "      <td>0.015526</td>\n",
       "      <td>14.817978</td>\n",
       "    </tr>\n",
       "    <tr>\n",
       "      <th>1136</th>\n",
       "      <td>(S, Old, Dead)</td>\n",
       "      <td>(male)</td>\n",
       "      <td>0.035955</td>\n",
       "      <td>0.647191</td>\n",
       "      <td>0.034831</td>\n",
       "      <td>0.968750</td>\n",
       "      <td>1.496853</td>\n",
       "      <td>0.011562</td>\n",
       "      <td>11.289888</td>\n",
       "    </tr>\n",
       "    <tr>\n",
       "      <th>140</th>\n",
       "      <td>(1, female)</td>\n",
       "      <td>(Survived)</td>\n",
       "      <td>0.105618</td>\n",
       "      <td>0.384270</td>\n",
       "      <td>0.102247</td>\n",
       "      <td>0.968085</td>\n",
       "      <td>2.519286</td>\n",
       "      <td>0.061661</td>\n",
       "      <td>19.292884</td>\n",
       "    </tr>\n",
       "    <tr>\n",
       "      <th>577</th>\n",
       "      <td>(1, female, Adult)</td>\n",
       "      <td>(Survived)</td>\n",
       "      <td>0.065169</td>\n",
       "      <td>0.384270</td>\n",
       "      <td>0.062921</td>\n",
       "      <td>0.965517</td>\n",
       "      <td>2.512603</td>\n",
       "      <td>0.037879</td>\n",
       "      <td>17.856180</td>\n",
       "    </tr>\n",
       "  </tbody>\n",
       "</table>\n",
       "</div>"
      ],
      "text/plain": [
       "                   antecedents consequents  antecedent support  \\\n",
       "862         (Unknown, Dead, Q)         (3)            0.030337   \n",
       "1006        (Unknown, Q, male)         (3)            0.028090   \n",
       "1415  (Unknown, Q, Dead, male)         (3)            0.025843   \n",
       "624             (1, Dead, Old)      (male)            0.023596   \n",
       "276               (Unknown, Q)         (3)            0.055056   \n",
       "610             (1, female, C)  (Survived)            0.048315   \n",
       "416                (Dead, Old)      (male)            0.047191   \n",
       "1136            (S, Old, Dead)      (male)            0.035955   \n",
       "140                (1, female)  (Survived)            0.105618   \n",
       "577         (1, female, Adult)  (Survived)            0.065169   \n",
       "\n",
       "      consequent support   support  confidence      lift  leverage  conviction  \n",
       "862             0.550562  0.030337    1.000000  1.816327  0.013635         inf  \n",
       "1006            0.550562  0.028090    1.000000  1.816327  0.012625         inf  \n",
       "1415            0.550562  0.025843    1.000000  1.816327  0.011615         inf  \n",
       "624             0.647191  0.023596    1.000000  1.545139  0.008325         inf  \n",
       "276             0.550562  0.053933    0.979592  1.779259  0.023621   22.022472  \n",
       "610             0.384270  0.047191    0.976744  2.541820  0.028625   26.476404  \n",
       "416             0.647191  0.046067    0.976190  1.508350  0.015526   14.817978  \n",
       "1136            0.647191  0.034831    0.968750  1.496853  0.011562   11.289888  \n",
       "140             0.384270  0.102247    0.968085  2.519286  0.061661   19.292884  \n",
       "577             0.384270  0.062921    0.965517  2.512603  0.037879   17.856180  "
      ]
     },
     "execution_count": 128,
     "metadata": {},
     "output_type": "execute_result"
    }
   ],
   "source": [
    "output = apriori(df, min_support=0.02, use_colnames=oht.columns_)\n",
    "rules = association_rules(output, metric =\"lift\", min_threshold = 1) \n",
    "rules = rules.sort_values(['confidence', 'lift'], ascending =[False, False])\n",
    "rules.head(10)"
   ]
  }
 ],
 "metadata": {
  "accelerator": "TPU",
  "colab": {
   "name": "Titanic-data-Apriori.ipynb",
   "provenance": []
  },
  "kernelspec": {
   "display_name": "Python 3 (ipykernel)",
   "language": "python",
   "name": "python3"
  },
  "language_info": {
   "codemirror_mode": {
    "name": "ipython",
    "version": 3
   },
   "file_extension": ".py",
   "mimetype": "text/x-python",
   "name": "python",
   "nbconvert_exporter": "python",
   "pygments_lexer": "ipython3",
   "version": "3.9.7"
  }
 },
 "nbformat": 4,
 "nbformat_minor": 1
}
